{
  "nbformat": 4,
  "nbformat_minor": 5,
  "metadata": {
    "kernelspec": {
      "display_name": "Python 3",
      "language": "python",
      "name": "python3"
    },
    "language_info": {
      "codemirror_mode": {
        "name": "ipython",
        "version": 3
      },
      "file_extension": ".py",
      "mimetype": "text/x-python",
      "name": "python",
      "nbconvert_exporter": "python",
      "pygments_lexer": "ipython3",
      "version": "3.9.2"
    },
    "colab": {
      "name": "intent.ipynb",
      "provenance": [],
      "include_colab_link": true
    }
  },
  "cells": [
    {
      "cell_type": "markdown",
      "metadata": {
        "id": "view-in-github",
        "colab_type": "text"
      },
      "source": [
        "<a href=\"https://colab.research.google.com/github/mraihan19/intent_identify/blob/main/intent.ipynb\" target=\"_parent\"><img src=\"https://colab.research.google.com/assets/colab-badge.svg\" alt=\"Open In Colab\"/></a>"
      ]
    },
    {
      "cell_type": "code",
      "metadata": {
        "id": "sHceu7vm9Azx",
        "outputId": "c64e8c8a-9733-4850-ceef-00617b9aa88c",
        "colab": {
          "base_uri": "https://localhost:8080/",
          "height": 129
        }
      },
      "source": [
        "[![Open In Colab](https://colab.research.google.com/assets/colab-badge.svg)](https://colab.research.google.com/github/mraihan19/intent_identify/blob/main/intent.ipynb)\n"
      ],
      "id": "sHceu7vm9Azx",
      "execution_count": 5,
      "outputs": [
        {
          "output_type": "error",
          "ename": "SyntaxError",
          "evalue": "ignored",
          "traceback": [
            "\u001b[0;36m  File \u001b[0;32m\"<ipython-input-5-a94e251ba167>\"\u001b[0;36m, line \u001b[0;32m1\u001b[0m\n\u001b[0;31m    [![Open In Colab](https://colab.research.google.com/assets/colab-badge.svg)](https://colab.research.google.com/github/mraihan19/intent_identify/blob/main/intent.ipynb)\u001b[0m\n\u001b[0m     ^\u001b[0m\n\u001b[0;31mSyntaxError\u001b[0m\u001b[0;31m:\u001b[0m invalid syntax\n"
          ]
        }
      ]
    },
    {
      "cell_type": "code",
      "metadata": {
        "id": "d5695355",
        "outputId": "712fd5af-6548-4100-e60b-3d8621aff9bc",
        "colab": {
          "base_uri": "https://localhost:8080/"
        }
      },
      "source": [
        "!pip install git+https://github.com/mit-nlp/MITIE.git\n",
        "!pip install spacy"
      ],
      "id": "d5695355",
      "execution_count": 1,
      "outputs": [
        {
          "output_type": "stream",
          "text": [
            "Collecting git+https://github.com/mit-nlp/MITIE.git\n",
            "  Cloning https://github.com/mit-nlp/MITIE.git to /tmp/pip-req-build-mybh04gk\n",
            "  Running command git clone -q https://github.com/mit-nlp/MITIE.git /tmp/pip-req-build-mybh04gk\n",
            "Building wheels for collected packages: mitie\n",
            "  Building wheel for mitie (setup.py) ... \u001b[?25l\u001b[?25hdone\n",
            "  Created wheel for mitie: filename=mitie-0.7.0-cp37-none-any.whl size=418704 sha256=e8e5ed86f9b59c2f204ce67fcedef4ba6b459c6a7a1f4d71182951f11cda49d4\n",
            "  Stored in directory: /tmp/pip-ephem-wheel-cache-wjkwaklh/wheels/b4/c1/21/8e7e7e14cf3211bf5c73aad0b1d76d1186fbf681f4b9ef6c06\n",
            "Successfully built mitie\n",
            "Installing collected packages: mitie\n",
            "Successfully installed mitie-0.7.0\n",
            "Requirement already satisfied: spacy in /usr/local/lib/python3.7/dist-packages (2.2.4)\n",
            "Requirement already satisfied: plac<1.2.0,>=0.9.6 in /usr/local/lib/python3.7/dist-packages (from spacy) (1.1.3)\n",
            "Requirement already satisfied: thinc==7.4.0 in /usr/local/lib/python3.7/dist-packages (from spacy) (7.4.0)\n",
            "Requirement already satisfied: numpy>=1.15.0 in /usr/local/lib/python3.7/dist-packages (from spacy) (1.19.5)\n",
            "Requirement already satisfied: preshed<3.1.0,>=3.0.2 in /usr/local/lib/python3.7/dist-packages (from spacy) (3.0.5)\n",
            "Requirement already satisfied: tqdm<5.0.0,>=4.38.0 in /usr/local/lib/python3.7/dist-packages (from spacy) (4.41.1)\n",
            "Requirement already satisfied: requests<3.0.0,>=2.13.0 in /usr/local/lib/python3.7/dist-packages (from spacy) (2.23.0)\n",
            "Requirement already satisfied: blis<0.5.0,>=0.4.0 in /usr/local/lib/python3.7/dist-packages (from spacy) (0.4.1)\n",
            "Requirement already satisfied: setuptools in /usr/local/lib/python3.7/dist-packages (from spacy) (54.2.0)\n",
            "Requirement already satisfied: cymem<2.1.0,>=2.0.2 in /usr/local/lib/python3.7/dist-packages (from spacy) (2.0.5)\n",
            "Requirement already satisfied: wasabi<1.1.0,>=0.4.0 in /usr/local/lib/python3.7/dist-packages (from spacy) (0.8.2)\n",
            "Requirement already satisfied: murmurhash<1.1.0,>=0.28.0 in /usr/local/lib/python3.7/dist-packages (from spacy) (1.0.5)\n",
            "Requirement already satisfied: srsly<1.1.0,>=1.0.2 in /usr/local/lib/python3.7/dist-packages (from spacy) (1.0.5)\n",
            "Requirement already satisfied: catalogue<1.1.0,>=0.0.7 in /usr/local/lib/python3.7/dist-packages (from spacy) (1.0.0)\n",
            "Requirement already satisfied: idna<3,>=2.5 in /usr/local/lib/python3.7/dist-packages (from requests<3.0.0,>=2.13.0->spacy) (2.10)\n",
            "Requirement already satisfied: certifi>=2017.4.17 in /usr/local/lib/python3.7/dist-packages (from requests<3.0.0,>=2.13.0->spacy) (2020.12.5)\n",
            "Requirement already satisfied: urllib3!=1.25.0,!=1.25.1,<1.26,>=1.21.1 in /usr/local/lib/python3.7/dist-packages (from requests<3.0.0,>=2.13.0->spacy) (1.24.3)\n",
            "Requirement already satisfied: chardet<4,>=3.0.2 in /usr/local/lib/python3.7/dist-packages (from requests<3.0.0,>=2.13.0->spacy) (3.0.4)\n",
            "Requirement already satisfied: importlib-metadata>=0.20; python_version < \"3.8\" in /usr/local/lib/python3.7/dist-packages (from catalogue<1.1.0,>=0.0.7->spacy) (3.10.0)\n",
            "Requirement already satisfied: typing-extensions>=3.6.4; python_version < \"3.8\" in /usr/local/lib/python3.7/dist-packages (from importlib-metadata>=0.20; python_version < \"3.8\"->catalogue<1.1.0,>=0.0.7->spacy) (3.7.4.3)\n",
            "Requirement already satisfied: zipp>=0.5 in /usr/local/lib/python3.7/dist-packages (from importlib-metadata>=0.20; python_version < \"3.8\"->catalogue<1.1.0,>=0.0.7->spacy) (3.4.1)\n"
          ],
          "name": "stdout"
        }
      ]
    },
    {
      "cell_type": "code",
      "metadata": {
        "id": "da6c7662",
        "outputId": "155177ba-78ee-4e47-8e10-7288105dd42b",
        "colab": {
          "base_uri": "https://localhost:8080/"
        }
      },
      "source": [
        "!git clone https://github.com/mit-nlp/MITIE.git"
      ],
      "id": "da6c7662",
      "execution_count": 2,
      "outputs": [
        {
          "output_type": "stream",
          "text": [
            "Cloning into 'MITIE'...\n",
            "remote: Enumerating objects: 7, done.\u001b[K\n",
            "remote: Counting objects: 100% (7/7), done.\u001b[K\n",
            "remote: Compressing objects: 100% (7/7), done.\u001b[K\n",
            "remote: Total 33197 (delta 1), reused 3 (delta 0), pack-reused 33190\u001b[K\n",
            "Receiving objects: 100% (33197/33197), 10.69 MiB | 20.69 MiB/s, done.\n",
            "Resolving deltas: 100% (23153/23153), done.\n"
          ],
          "name": "stdout"
        }
      ]
    },
    {
      "cell_type": "code",
      "metadata": {
        "id": "2b7732c4",
        "outputId": "338e644e-47da-43ec-cf7b-1169be6fd121",
        "colab": {
          "base_uri": "https://localhost:8080/"
        }
      },
      "source": [
        "!python -m spacy download en_core_web_sm"
      ],
      "id": "2b7732c4",
      "execution_count": 3,
      "outputs": [
        {
          "output_type": "stream",
          "text": [
            "Requirement already satisfied: en_core_web_sm==2.2.5 from https://github.com/explosion/spacy-models/releases/download/en_core_web_sm-2.2.5/en_core_web_sm-2.2.5.tar.gz#egg=en_core_web_sm==2.2.5 in /usr/local/lib/python3.7/dist-packages (2.2.5)\n",
            "Requirement already satisfied: spacy>=2.2.2 in /usr/local/lib/python3.7/dist-packages (from en_core_web_sm==2.2.5) (2.2.4)\n",
            "Requirement already satisfied: tqdm<5.0.0,>=4.38.0 in /usr/local/lib/python3.7/dist-packages (from spacy>=2.2.2->en_core_web_sm==2.2.5) (4.41.1)\n",
            "Requirement already satisfied: srsly<1.1.0,>=1.0.2 in /usr/local/lib/python3.7/dist-packages (from spacy>=2.2.2->en_core_web_sm==2.2.5) (1.0.5)\n",
            "Requirement already satisfied: catalogue<1.1.0,>=0.0.7 in /usr/local/lib/python3.7/dist-packages (from spacy>=2.2.2->en_core_web_sm==2.2.5) (1.0.0)\n",
            "Requirement already satisfied: blis<0.5.0,>=0.4.0 in /usr/local/lib/python3.7/dist-packages (from spacy>=2.2.2->en_core_web_sm==2.2.5) (0.4.1)\n",
            "Requirement already satisfied: preshed<3.1.0,>=3.0.2 in /usr/local/lib/python3.7/dist-packages (from spacy>=2.2.2->en_core_web_sm==2.2.5) (3.0.5)\n",
            "Requirement already satisfied: numpy>=1.15.0 in /usr/local/lib/python3.7/dist-packages (from spacy>=2.2.2->en_core_web_sm==2.2.5) (1.19.5)\n",
            "Requirement already satisfied: requests<3.0.0,>=2.13.0 in /usr/local/lib/python3.7/dist-packages (from spacy>=2.2.2->en_core_web_sm==2.2.5) (2.23.0)\n",
            "Requirement already satisfied: murmurhash<1.1.0,>=0.28.0 in /usr/local/lib/python3.7/dist-packages (from spacy>=2.2.2->en_core_web_sm==2.2.5) (1.0.5)\n",
            "Requirement already satisfied: plac<1.2.0,>=0.9.6 in /usr/local/lib/python3.7/dist-packages (from spacy>=2.2.2->en_core_web_sm==2.2.5) (1.1.3)\n",
            "Requirement already satisfied: cymem<2.1.0,>=2.0.2 in /usr/local/lib/python3.7/dist-packages (from spacy>=2.2.2->en_core_web_sm==2.2.5) (2.0.5)\n",
            "Requirement already satisfied: wasabi<1.1.0,>=0.4.0 in /usr/local/lib/python3.7/dist-packages (from spacy>=2.2.2->en_core_web_sm==2.2.5) (0.8.2)\n",
            "Requirement already satisfied: thinc==7.4.0 in /usr/local/lib/python3.7/dist-packages (from spacy>=2.2.2->en_core_web_sm==2.2.5) (7.4.0)\n",
            "Requirement already satisfied: setuptools in /usr/local/lib/python3.7/dist-packages (from spacy>=2.2.2->en_core_web_sm==2.2.5) (54.2.0)\n",
            "Requirement already satisfied: importlib-metadata>=0.20; python_version < \"3.8\" in /usr/local/lib/python3.7/dist-packages (from catalogue<1.1.0,>=0.0.7->spacy>=2.2.2->en_core_web_sm==2.2.5) (3.10.0)\n",
            "Requirement already satisfied: chardet<4,>=3.0.2 in /usr/local/lib/python3.7/dist-packages (from requests<3.0.0,>=2.13.0->spacy>=2.2.2->en_core_web_sm==2.2.5) (3.0.4)\n",
            "Requirement already satisfied: urllib3!=1.25.0,!=1.25.1,<1.26,>=1.21.1 in /usr/local/lib/python3.7/dist-packages (from requests<3.0.0,>=2.13.0->spacy>=2.2.2->en_core_web_sm==2.2.5) (1.24.3)\n",
            "Requirement already satisfied: certifi>=2017.4.17 in /usr/local/lib/python3.7/dist-packages (from requests<3.0.0,>=2.13.0->spacy>=2.2.2->en_core_web_sm==2.2.5) (2020.12.5)\n",
            "Requirement already satisfied: idna<3,>=2.5 in /usr/local/lib/python3.7/dist-packages (from requests<3.0.0,>=2.13.0->spacy>=2.2.2->en_core_web_sm==2.2.5) (2.10)\n",
            "Requirement already satisfied: zipp>=0.5 in /usr/local/lib/python3.7/dist-packages (from importlib-metadata>=0.20; python_version < \"3.8\"->catalogue<1.1.0,>=0.0.7->spacy>=2.2.2->en_core_web_sm==2.2.5) (3.4.1)\n",
            "Requirement already satisfied: typing-extensions>=3.6.4; python_version < \"3.8\" in /usr/local/lib/python3.7/dist-packages (from importlib-metadata>=0.20; python_version < \"3.8\"->catalogue<1.1.0,>=0.0.7->spacy>=2.2.2->en_core_web_sm==2.2.5) (3.7.4.3)\n",
            "\u001b[38;5;2m✔ Download and installation successful\u001b[0m\n",
            "You can now load the model via spacy.load('en_core_web_sm')\n"
          ],
          "name": "stdout"
        }
      ]
    },
    {
      "cell_type": "code",
      "metadata": {
        "id": "bWLyu6Vz8mb_",
        "outputId": "b9e74bab-68e7-4a61-9685-cdb798587cf8",
        "colab": {
          "base_uri": "https://localhost:8080/"
        }
      },
      "source": [
        "!ls"
      ],
      "id": "bWLyu6Vz8mb_",
      "execution_count": 8,
      "outputs": [
        {
          "output_type": "stream",
          "text": [
            "MITIE  sample_data\n"
          ],
          "name": "stdout"
        }
      ]
    },
    {
      "cell_type": "code",
      "metadata": {
        "id": "y0w-XCps9YMu",
        "outputId": "d3b4b44e-b860-4e6a-bee8-9dc2518f2f5b",
        "colab": {
          "base_uri": "https://localhost:8080/"
        }
      },
      "source": [
        "%%bash\n",
        "cd MITIE\n",
        "make MITIE-models"
      ],
      "id": "y0w-XCps9YMu",
      "execution_count": 9,
      "outputs": [
        {
          "output_type": "stream",
          "text": [
            "curl -LO https://github.com/mit-nlp/MITIE/releases/download/v0.4/MITIE-models-v0.2.tar.bz2\n",
            "tar -xjf MITIE-models-v0.2.tar.bz2\n"
          ],
          "name": "stdout"
        },
        {
          "output_type": "stream",
          "text": [
            "  % Total    % Received % Xferd  Average Speed   Time    Time     Time  Current\n",
            "                                 Dload  Upload   Total   Spent    Left  Speed\n",
            "\r  0     0    0     0    0     0      0      0 --:--:-- --:--:-- --:--:--     0\r100   631  100   631    0     0   3252      0 --:--:-- --:--:-- --:--:--  3269\n",
            "\r  2  415M    2 8696k    0     0  12.3M      0  0:00:33 --:--:--  0:00:33 12.3M\r 18  415M   18 77.1M    0     0  45.8M      0  0:00:09  0:00:01  0:00:08 68.6M\r 33  415M   33  138M    0     0  51.7M      0  0:00:08  0:00:02  0:00:06 65.2M\r 48  415M   48  203M    0     0  55.2M      0  0:00:07  0:00:03  0:00:04 64.9M\r 65  415M   65  270M    0     0  57.7M      0  0:00:07  0:00:04  0:00:03 65.4M\r 81  415M   81  339M    0     0  59.7M      0  0:00:06  0:00:05  0:00:01 66.2M\r 98  415M   98  411M    0     0  61.5M      0  0:00:06  0:00:06 --:--:-- 66.8M\r100  415M  100  415M    0     0  61.6M      0  0:00:06  0:00:06 --:--:-- 68.1M\n"
          ],
          "name": "stderr"
        }
      ]
    },
    {
      "cell_type": "code",
      "metadata": {
        "id": "T3h4miH-9eM2",
        "outputId": "35ae70df-8751-4063-c96c-7b18c90f0445",
        "colab": {
          "base_uri": "https://localhost:8080/"
        }
      },
      "source": [
        "!ls MITIE/MITIE-models/english"
      ],
      "id": "T3h4miH-9eM2",
      "execution_count": 10,
      "outputs": [
        {
          "output_type": "stream",
          "text": [
            "binary_relations  ner_model.dat  total_word_feature_extractor.dat\n"
          ],
          "name": "stdout"
        }
      ]
    },
    {
      "cell_type": "code",
      "metadata": {
        "id": "OXxp7pt79fFV",
        "outputId": "2dfa0051-3159-498f-9bb4-103193de80e9",
        "colab": {
          "base_uri": "https://localhost:8080/"
        }
      },
      "source": [
        "!wget https://www.dropbox.com/s/0abglv8scuorkhs/glove.6B.zip"
      ],
      "id": "OXxp7pt79fFV",
      "execution_count": 11,
      "outputs": [
        {
          "output_type": "stream",
          "text": [
            "--2021-04-14 10:42:22--  https://www.dropbox.com/s/0abglv8scuorkhs/glove.6B.zip\n",
            "Resolving www.dropbox.com (www.dropbox.com)... 162.125.1.18, 2620:100:601a:18::a27d:712\n",
            "Connecting to www.dropbox.com (www.dropbox.com)|162.125.1.18|:443... connected.\n",
            "HTTP request sent, awaiting response... 301 Moved Permanently\n",
            "Location: /s/raw/0abglv8scuorkhs/glove.6B.zip [following]\n",
            "--2021-04-14 10:42:22--  https://www.dropbox.com/s/raw/0abglv8scuorkhs/glove.6B.zip\n",
            "Reusing existing connection to www.dropbox.com:443.\n",
            "HTTP request sent, awaiting response... 302 Found\n",
            "Location: https://uc107880ab48266344c2116ccc0c.dl.dropboxusercontent.com/cd/0/inline/BMlpm9NwgJqKDyjwp3I1pYneiOLFPaoPNNWg1cHwMPBmPnS_pBMXZNZQXVIzDyEYAVTRBEquiUtZ626vqJGZYigKvQoBzpIGQzMmEqMJx-S-KmZe84G_obxkqVdDfUX4R_ODdjK8_NcASD6WrGZd59o6/file# [following]\n",
            "--2021-04-14 10:42:22--  https://uc107880ab48266344c2116ccc0c.dl.dropboxusercontent.com/cd/0/inline/BMlpm9NwgJqKDyjwp3I1pYneiOLFPaoPNNWg1cHwMPBmPnS_pBMXZNZQXVIzDyEYAVTRBEquiUtZ626vqJGZYigKvQoBzpIGQzMmEqMJx-S-KmZe84G_obxkqVdDfUX4R_ODdjK8_NcASD6WrGZd59o6/file\n",
            "Resolving uc107880ab48266344c2116ccc0c.dl.dropboxusercontent.com (uc107880ab48266344c2116ccc0c.dl.dropboxusercontent.com)... 162.125.1.15, 2620:100:601a:15::a27d:70f\n",
            "Connecting to uc107880ab48266344c2116ccc0c.dl.dropboxusercontent.com (uc107880ab48266344c2116ccc0c.dl.dropboxusercontent.com)|162.125.1.15|:443... connected.\n",
            "HTTP request sent, awaiting response... 302 Found\n",
            "Location: /cd/0/inline2/BMkgSfhnfx7V1YxZdDOluY0nyINB4Qx9o2PjwbvmOgTCFnrZWIFWDLRjr46kdSxWhYU8SvhgWZUB6oUKVDKQE3V-1rnYPhzak75ePhpiajmA1zBia9h4TV7Ej57UmybRjVJU3RjuuQI4bqKLeTE9TXI_hEQ_Kr78uUTm7_A3nYEqzUY84kBgUsBcQpp1MUet3i1h4-ld4UdC211V653f_pO_dkPrgbRNjFWlyHp8BymPMvWnT6nQrTRzuHi757Xa_gCNtGoTUyF5iCiOmMMw8D6u59jq-6J_haI6lkrLgrGGchm4kifEwAy95ZqOaKSyaQfpubkRJIzJ3cX0XN12Oxsyjrg2SiMvmhNjDNKp_01EfrE31x9Fg5N-9Y2Mtmxenio/file [following]\n",
            "--2021-04-14 10:42:23--  https://uc107880ab48266344c2116ccc0c.dl.dropboxusercontent.com/cd/0/inline2/BMkgSfhnfx7V1YxZdDOluY0nyINB4Qx9o2PjwbvmOgTCFnrZWIFWDLRjr46kdSxWhYU8SvhgWZUB6oUKVDKQE3V-1rnYPhzak75ePhpiajmA1zBia9h4TV7Ej57UmybRjVJU3RjuuQI4bqKLeTE9TXI_hEQ_Kr78uUTm7_A3nYEqzUY84kBgUsBcQpp1MUet3i1h4-ld4UdC211V653f_pO_dkPrgbRNjFWlyHp8BymPMvWnT6nQrTRzuHi757Xa_gCNtGoTUyF5iCiOmMMw8D6u59jq-6J_haI6lkrLgrGGchm4kifEwAy95ZqOaKSyaQfpubkRJIzJ3cX0XN12Oxsyjrg2SiMvmhNjDNKp_01EfrE31x9Fg5N-9Y2Mtmxenio/file\n",
            "Reusing existing connection to uc107880ab48266344c2116ccc0c.dl.dropboxusercontent.com:443.\n",
            "HTTP request sent, awaiting response... 200 OK\n",
            "Length: 862182613 (822M) [application/zip]\n",
            "Saving to: ‘glove.6B.zip’\n",
            "\n",
            "glove.6B.zip        100%[===================>] 822.24M  38.5MB/s    in 20s     \n",
            "\n",
            "2021-04-14 10:42:43 (42.1 MB/s) - ‘glove.6B.zip’ saved [862182613/862182613]\n",
            "\n"
          ],
          "name": "stdout"
        }
      ]
    },
    {
      "cell_type": "markdown",
      "metadata": {
        "id": "7Bmonjgg9zy8"
      },
      "source": [
        "**Data**\n",
        "\n",
        "---\n",
        "\n",
        "\n",
        "\n",
        "Currently it is trained on data for finding Restaurants and foods. With little effort it can be ported to any other type of intention finding\n",
        "\n"
      ],
      "id": "7Bmonjgg9zy8"
    },
    {
      "cell_type": "code",
      "metadata": {
        "id": "eawy5tdS9kjl"
      },
      "source": [
        "data={\n",
        "  \"greet\": {\n",
        "    \"examples\" : [\"hello\",\"hey there\",\"howdy\",\"hello\",\"hi\",\"hey\",\"hey ho\"],\n",
        "    \"centroid\" : None\n",
        "  },\n",
        "  \"inform\": {\n",
        "    \"examples\" : [\n",
        "      \"i'd like something asian\",\n",
        "      \"maybe korean\",\n",
        "      \"what mexican options do i have\",\n",
        "      \"what italian options do i have\",\n",
        "      \"i want korean food\",\n",
        "      \"i want german food\",\n",
        "      \"i want vegetarian food\",\n",
        "      \"i would like chinese food\",\n",
        "      \"i would like indian food\",\n",
        "      \"what japanese options do i have\",\n",
        "      \"korean please\",\n",
        "      \"what about indian\",\n",
        "      \"i want some vegan food\",\n",
        "      \"maybe thai\",\n",
        "      \"i'd like something vegetarian\",\n",
        "      \"show me french restaurants\",\n",
        "      \"show me a cool malaysian spot\"\n",
        "    ],\n",
        "    \"centroid\" : None\n",
        "  },\n",
        "  \"deny\": {\n",
        "    \"examples\" : [\n",
        "      \"nah\",\n",
        "      \"any other places ?\",\n",
        "      \"anything else\",\n",
        "      \"no thanks\"\n",
        "      \"not that one\",\n",
        "      \"i do not like that place\",\n",
        "      \"something else please\",\n",
        "      \"no please show other options\"\n",
        "    ],\n",
        "    \"centroid\" : None\n",
        "  }\n",
        "}"
      ],
      "id": "eawy5tdS9kjl",
      "execution_count": 12,
      "outputs": []
    },
    {
      "cell_type": "code",
      "metadata": {
        "id": "3zN7gI-r9omq",
        "outputId": "b7993fd1-0d7f-44d3-8b61-655cfc89ffda",
        "colab": {
          "base_uri": "https://localhost:8080/"
        }
      },
      "source": [
        "import sys, os\n",
        "!unzip glove.6B.zip -d ./glove"
      ],
      "id": "3zN7gI-r9omq",
      "execution_count": 13,
      "outputs": [
        {
          "output_type": "stream",
          "text": [
            "Archive:  glove.6B.zip\n",
            "  inflating: ./glove/glove.6B.50d.txt  \n",
            "  inflating: ./glove/glove.6B.100d.txt  \n",
            "  inflating: ./glove/glove.6B.200d.txt  \n",
            "  inflating: ./glove/glove.6B.300d.txt  \n"
          ],
          "name": "stdout"
        }
      ]
    },
    {
      "cell_type": "markdown",
      "metadata": {
        "id": "qOmizlhd-Ibv"
      },
      "source": [
        "**Network Training**"
      ],
      "id": "qOmizlhd-Ibv"
    },
    {
      "cell_type": "code",
      "metadata": {
        "id": "8q-rBkNr-Lrz"
      },
      "source": [
        "from mitie import *\n",
        "\n",
        "trainer = text_categorizer_trainer(\"MITIE/MITIE-models/english/total_word_feature_extractor.dat\")\n",
        "\n",
        " # same as before  - omitted for brevity\n",
        "training_examples = data\n",
        "\n",
        "for label in training_examples.keys():\n",
        "  for text in training_examples[label][\"examples\"]:\n",
        "    tokens = tokenize(text)\n",
        "    trainer.add_labeled_text(tokens,label)\n",
        "    \n",
        "trainer.num_threads = 4\n",
        "cat = trainer.train()\n",
        "\n",
        "cat.save_to_disk(\"my_text_categorizer.dat\")"
      ],
      "id": "8q-rBkNr-Lrz",
      "execution_count": null,
      "outputs": []
    },
    {
      "cell_type": "markdown",
      "metadata": {
        "id": "0LUb_mYw-wH3"
      },
      "source": [
        "**Test**\n",
        "\n",
        "This model can detect 3 type of intentions:\n",
        "\n",
        "1.   Inform\n",
        "2.   Greet &\n",
        "3.   Deny\n"
      ],
      "id": "0LUb_mYw-wH3"
    },
    {
      "cell_type": "code",
      "metadata": {
        "id": "7L2W2HgK-vNf"
      },
      "source": [
        "import spacy\n",
        "nlp = spacy.load('en_core_web_sm')\n",
        "input_string = \"do you have anything else?\"\n",
        "tokens = tokenize(input_string)\n",
        "predicted_label, _ = cat(tokens)"
      ],
      "id": "7L2W2HgK-vNf",
      "execution_count": null,
      "outputs": []
    },
    {
      "cell_type": "code",
      "metadata": {
        "id": "bf9ZeLNp_Pnq"
      },
      "source": [
        "print \"Intention: \", predicted_label\n",
        "doc = nlp(u'{}'.format(input_string)) #input_string.encode('utf-8')\n",
        "for chunk in doc.noun_chunks:\n",
        "  if chunk.root.dep_ == u'dobj':\n",
        "    print(chunk.text)"
      ],
      "id": "bf9ZeLNp_Pnq",
      "execution_count": null,
      "outputs": []
    }
  ]
}